{
 "cells": [
  {
   "cell_type": "markdown",
   "metadata": {},
   "source": [
    "# <font color='blue'>Aplicação - Big Data Real-Time Analytics com Python e Spark</font>\n",
    "\n",
    "# <font color='blue'>Mini Projeto DSA</font>"
   ]
  },
  {
   "cell_type": "markdown",
   "metadata": {},
   "source": [
    "# Analisando Dados do Uber com Spark "
   ]
  },
  {
   "cell_type": "markdown",
   "metadata": {},
   "source": [
    "Dataset: https://github.com/fivethirtyeight/uber-tlc-foil-response"
   ]
  },
  {
   "cell_type": "markdown",
   "metadata": {},
   "source": [
    "Esse conjunto de dados contém dados de mais de 4,5 milhões de captações Uber na cidade de Nova York de abril a setembro de 2014 e 14,3 milhões de captações Uber de janeiro a junho de 2015. Dados em nível de viagem sobre 10 outras empresas de veículos de aluguel (FHV) bem como dados agregados para 329 empresas de FHV, também estão incluídos. Todos os arquivos foram recebidos em 3 de agosto, 15 de setembro e 22 de setembro de 2015."
   ]
  },
  {
   "cell_type": "markdown",
   "metadata": {},
   "source": [
    "1- Quantos são e quais são as bases de carros do Uber (onde os carros ficam esperando passageiros)?\n",
    "\n",
    "2- Qual o total de veículos que passaram pela base B02617?\n",
    "\n",
    "3- Qual o total de corridas por base? Apresente de forma decrescente."
   ]
  },
  {
   "cell_type": "code",
   "execution_count": 6,
   "metadata": {},
   "outputs": [],
   "source": [
    "# Criando o RDD a partir do arquivo csv\n",
    "uberRDD = sc.textFile(\"data/uber.csv\")"
   ]
  },
  {
   "cell_type": "code",
   "execution_count": 7,
   "metadata": {},
   "outputs": [
    {
     "data": {
      "text/plain": [
       "pyspark.rdd.RDD"
      ]
     },
     "execution_count": 7,
     "metadata": {},
     "output_type": "execute_result"
    }
   ],
   "source": [
    "type(uberRDD)"
   ]
  },
  {
   "cell_type": "code",
   "execution_count": 8,
   "metadata": {},
   "outputs": [
    {
     "data": {
      "text/plain": [
       "'dispatching_base_number,date,active_vehicles,trips'"
      ]
     },
     "execution_count": 8,
     "metadata": {},
     "output_type": "execute_result"
    }
   ],
   "source": [
    "uberRDD.first()"
   ]
  },
  {
   "cell_type": "code",
   "execution_count": 344,
   "metadata": {},
   "outputs": [
    {
     "data": {
      "text/plain": [
       "['dispatching_base_number,date,active_vehicles,trips',\n",
       " 'B02512,1/1/2015,190,1132',\n",
       " 'B02765,1/1/2015,225,1765',\n",
       " 'B02764,1/1/2015,3427,29421',\n",
       " 'B02682,1/1/2015,945,7679',\n",
       " 'B02617,1/1/2015,1228,9537',\n",
       " 'B02598,1/1/2015,870,6903',\n",
       " 'B02598,1/2/2015,785,4768',\n",
       " 'B02617,1/2/2015,1137,7065',\n",
       " 'B02512,1/2/2015,175,875']"
      ]
     },
     "execution_count": 344,
     "metadata": {},
     "output_type": "execute_result"
    }
   ],
   "source": [
    "uberRDD.take(10)"
   ]
  },
  {
   "cell_type": "code",
   "execution_count": 340,
   "metadata": {},
   "outputs": [],
   "source": [
    "# 1- Quantos são e quais são as bases de carros do Uber (onde os carros ficam esperando passageiros)?\n",
    "# Steps:\n",
    "    # 1 - Primeiramente filtramos o RDD para retirar a primeira linha (Cabeçalho).\n",
    "    # 2 - Na sequência dividimos nosso Dataset em COLUNAS divididos por \",\".\n",
    "    # 3 - E finalmente, utilizamos Distinct para somente da primeira coluna (x[0]), com intúito de não repetir as bases Uber\n",
    "\n",
    "uberRDDT2 = uberRDD.filter(lambda line: \"date\" not in line).map(lambda line: line.split(\",\")).map(lambda x: x[0]).distinct()"
   ]
  },
  {
   "cell_type": "code",
   "execution_count": 341,
   "metadata": {},
   "outputs": [
    {
     "data": {
      "text/plain": [
       "6"
      ]
     },
     "execution_count": 341,
     "metadata": {},
     "output_type": "execute_result"
    }
   ],
   "source": [
    "\n",
    "uberRDDT2.count()"
   ]
  },
  {
   "cell_type": "code",
   "execution_count": 342,
   "metadata": {},
   "outputs": [
    {
     "data": {
      "text/plain": [
       "['B02765', 'B02682', 'B02598', 'B02512', 'B02764', 'B02617']"
      ]
     },
     "execution_count": 342,
     "metadata": {},
     "output_type": "execute_result"
    }
   ],
   "source": [
    "uberRDDT2.collect()"
   ]
  },
  {
   "cell_type": "code",
   "execution_count": 253,
   "metadata": {},
   "outputs": [
    {
     "data": {
      "text/plain": [
       "[('B02617', 79758)]"
      ]
     },
     "execution_count": 253,
     "metadata": {},
     "output_type": "execute_result"
    }
   ],
   "source": [
    "# 2- Qual o total de veículos que passaram pela base B02617?\n",
    "# Steps:\n",
    "    # 1 - Primeiramente aplicamos 2 filtros no RDD. \n",
    "        # 1.1 - Retirar a primeira linha (Cabeçalho),  \n",
    "        # 1.2 - Filtramos somente a base B02617 .\n",
    "    # 2 - Na sequência dividimos nosso Dataset em COLUNAS divididos por \",\"\n",
    "    \n",
    "uberRDDT1 = uberRDD.filter(lambda line: \"B02617\" in line and \"date\" not in line).map(lambda line: line.split(\",\"))\n",
    "\n",
    "# Apresentamos o total de veículos (active_vehicles) no Dataset\n",
    "uberRDDT1.map(lambda n: (str(n[0]), int(n[2]) ) ).reduceByKey(lambda v1,v2: v1 + v2).collect()"
   ]
  },
  {
   "cell_type": "code",
   "execution_count": 343,
   "metadata": {},
   "outputs": [
    {
     "data": {
      "text/plain": [
       "59"
      ]
     },
     "execution_count": 343,
     "metadata": {},
     "output_type": "execute_result"
    }
   ],
   "source": [
    "# Total de veículos que passaram pela base \"B02617\"\n",
    "uberRDDT1.count()"
   ]
  },
  {
   "cell_type": "code",
   "execution_count": 298,
   "metadata": {},
   "outputs": [
    {
     "data": {
      "text/plain": [
       "[('B02764', 1914449),\n",
       " ('B02617', 725025),\n",
       " ('B02682', 662509),\n",
       " ('B02598', 540791),\n",
       " ('B02765', 193670),\n",
       " ('B02512', 93786)]"
      ]
     },
     "execution_count": 298,
     "metadata": {},
     "output_type": "execute_result"
    }
   ],
   "source": [
    "# 3- Qual o total de corridas por base? Apresente de forma decrescente.\n",
    "# Steps:\n",
    "    # 1 - Primeiramente filtramos o RDD para retirar a primeira linha (Cabeçalho).\n",
    "    # 2 - Na sequência dividimos nosso Dataset em COLUNAS divididos por \",\"\n",
    "uberRDDT3 = uberRDD.filter(lambda line: \"date\" not in line).map(lambda line: line.split(\",\"))\n",
    "\n",
    "# Trazemos os dados totalizados pela coluna 3 (active_vehicles), ordenado de forma decrescente \n",
    "uberRDDT3.map(lambda n: (str(n[0]), int(n[3]) ) ).reduceByKey(lambda v1,v2: v1 + v2).takeOrdered(10, key = lambda x: -x[1])\n"
   ]
  }
 ],
 "metadata": {
  "anaconda-cloud": {},
  "kernelspec": {
   "display_name": "Python 3",
   "language": "python",
   "name": "python3"
  },
  "language_info": {
   "codemirror_mode": {
    "name": "ipython",
    "version": 3
   },
   "file_extension": ".py",
   "mimetype": "text/x-python",
   "name": "python",
   "nbconvert_exporter": "python",
   "pygments_lexer": "ipython3",
   "version": "3.6.4"
  }
 },
 "nbformat": 4,
 "nbformat_minor": 1
}
